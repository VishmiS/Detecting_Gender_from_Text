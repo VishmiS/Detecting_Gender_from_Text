{
  "nbformat": 4,
  "nbformat_minor": 0,
  "metadata": {
    "colab": {
      "provenance": [],
      "authorship_tag": "ABX9TyOqLDWftVyz31fegHdIiv9m"
    },
    "kernelspec": {
      "name": "python3",
      "display_name": "Python 3"
    },
    "language_info": {
      "name": "python"
    }
  },
  "cells": [
    {
      "cell_type": "markdown",
      "source": [
        "## Step 1: Load the Dataset from Excel and Handle Missing Values"
      ],
      "metadata": {
        "id": "KPQYxXJMpHFv"
      }
    },
    {
      "cell_type": "code",
      "source": [
        "pip install nltk"
      ],
      "metadata": {
        "colab": {
          "base_uri": "https://localhost:8080/"
        },
        "id": "sZTJIkU93Rbw",
        "outputId": "a6d65e16-3028-46c2-ca64-2eabc302d65c"
      },
      "execution_count": null,
      "outputs": [
        {
          "output_type": "stream",
          "name": "stdout",
          "text": [
            "Requirement already satisfied: nltk in /usr/local/lib/python3.10/dist-packages (3.8.1)\n",
            "Requirement already satisfied: click in /usr/local/lib/python3.10/dist-packages (from nltk) (8.1.7)\n",
            "Requirement already satisfied: joblib in /usr/local/lib/python3.10/dist-packages (from nltk) (1.4.2)\n",
            "Requirement already satisfied: regex>=2021.8.3 in /usr/local/lib/python3.10/dist-packages (from nltk) (2024.5.15)\n",
            "Requirement already satisfied: tqdm in /usr/local/lib/python3.10/dist-packages (from nltk) (4.66.4)\n"
          ]
        }
      ]
    },
    {
      "cell_type": "code",
      "source": [
        "import pandas as pd\n",
        "import re\n",
        "from nltk.tokenize import word_tokenize\n",
        "from nltk.corpus import stopwords\n",
        "from nltk.stem import PorterStemmer\n",
        "from sklearn.model_selection import train_test_split\n",
        "import nltk\n",
        "nltk.download('stopwords')\n",
        "\n",
        "# Download NLTK resources\n",
        "nltk.download('punkt')\n",
        "\n",
        "# Load the dataset\n",
        "preprocessed_data = pd.read_excel('preprocessed_data.xlsx')\n",
        "\n",
        "# Check for missing values\n",
        "print(preprocessed_data['text'].isnull().sum(), preprocessed_data['gender'].isnull().sum())\n",
        "\n",
        "# Option 1: Remove rows with missing values\n",
        "preprocessed_data.dropna(subset=['text', 'gender'], inplace=True)\n",
        "\n",
        "# Option 2: Fill missing values with a placeholder text\n",
        "# preprocessed_data['text'].fillna('missing', inplace=True)\n",
        "# preprocessed_data['gender'].fillna('missing', inplace=True)\n",
        "\n",
        "# Reassign tweets and labels after handling missing values\n",
        "tweets = preprocessed_data['text']\n",
        "labels = preprocessed_data['gender']\n",
        "\n",
        "# Function to preprocess text\n",
        "def preprocess_text(text):\n",
        "    # Remove special characters and numbers\n",
        "    text = re.sub(r'[^a-zA-Z\\s]', '', text)\n",
        "    # Convert to lowercase\n",
        "    text = text.lower()\n",
        "    return text\n",
        "\n",
        "# Apply preprocessing to tweets\n",
        "tweets = tweets.apply(preprocess_text)\n",
        "\n",
        "# Tokenization\n",
        "tweets_tokenized = tweets.apply(word_tokenize)\n",
        "\n",
        "# Stopword removal (optional)\n",
        "stop_words = set(stopwords.words('english'))\n",
        "tweets_filtered = tweets_tokenized.apply(lambda tokens: [word for word in tokens if word not in stop_words])\n",
        "\n",
        "# Stemming (optional)\n",
        "stemmer = PorterStemmer()\n",
        "tweets_stemmed = tweets_filtered.apply(lambda tokens: [stemmer.stem(word) for word in tokens])\n",
        "\n",
        "# Splitting data into train and test sets\n",
        "X_train, X_test, y_train, y_test = train_test_split(tweets_stemmed, labels, test_size=0.2, random_state=42)\n"
      ],
      "metadata": {
        "colab": {
          "base_uri": "https://localhost:8080/"
        },
        "id": "viQE5Si7pKil",
        "outputId": "c3b550bd-daca-4c1a-c2b5-5c82ef9e71ae"
      },
      "execution_count": null,
      "outputs": [
        {
          "output_type": "stream",
          "name": "stderr",
          "text": [
            "[nltk_data] Downloading package stopwords to /root/nltk_data...\n",
            "[nltk_data]   Package stopwords is already up-to-date!\n",
            "[nltk_data] Downloading package punkt to /root/nltk_data...\n",
            "[nltk_data]   Package punkt is already up-to-date!\n"
          ]
        },
        {
          "output_type": "stream",
          "name": "stdout",
          "text": [
            "1 0\n"
          ]
        }
      ]
    },
    {
      "cell_type": "markdown",
      "source": [
        "## Step 2: Creating Word Embeddings"
      ],
      "metadata": {
        "id": "soTPucW8pSdY"
      }
    },
    {
      "cell_type": "markdown",
      "source": [
        "### Word2Vec Feature Extraction"
      ],
      "metadata": {
        "id": "WgWuxJZXVA-1"
      }
    },
    {
      "cell_type": "code",
      "source": [
        "pip install gensim"
      ],
      "metadata": {
        "colab": {
          "base_uri": "https://localhost:8080/"
        },
        "id": "jRjca7WSpS5F",
        "outputId": "8105390b-335c-404f-a0da-d90fd7ed0540"
      },
      "execution_count": null,
      "outputs": [
        {
          "output_type": "stream",
          "name": "stdout",
          "text": [
            "Requirement already satisfied: gensim in /usr/local/lib/python3.10/dist-packages (4.3.2)\n",
            "Requirement already satisfied: numpy>=1.18.5 in /usr/local/lib/python3.10/dist-packages (from gensim) (1.25.2)\n",
            "Requirement already satisfied: scipy>=1.7.0 in /usr/local/lib/python3.10/dist-packages (from gensim) (1.11.4)\n",
            "Requirement already satisfied: smart-open>=1.8.1 in /usr/local/lib/python3.10/dist-packages (from gensim) (7.0.4)\n",
            "Requirement already satisfied: wrapt in /usr/local/lib/python3.10/dist-packages (from smart-open>=1.8.1->gensim) (1.14.1)\n"
          ]
        }
      ]
    },
    {
      "cell_type": "code",
      "source": [
        "#Train the Word2Vec model:\n",
        "\n",
        "from gensim.models import Word2Vec\n",
        "\n",
        "# Train Word2Vec model\n",
        "model_w2v = Word2Vec(sentences=tweets_stemmed, vector_size=100, window=5, min_count=1, workers=4)\n",
        "\n",
        "# Save the model\n",
        "model_w2v.save(\"word2vec.model\")\n"
      ],
      "metadata": {
        "id": "7KDuvb1WU81X"
      },
      "execution_count": null,
      "outputs": []
    },
    {
      "cell_type": "code",
      "source": [
        "#Create document vectors by averaging word vectors for each tweet:\n",
        "\n",
        "import numpy as np\n",
        "\n",
        "def document_vector(doc):\n",
        "    doc = [word for word in doc if word in model_w2v.wv]\n",
        "    return np.mean(model_w2v.wv[doc], axis=0)\n",
        "\n",
        "X_train_w2v = np.array([document_vector(doc) for doc in X_train])\n",
        "X_test_w2v = np.array([document_vector(doc) for doc in X_test])\n"
      ],
      "metadata": {
        "id": "YIrKsTgVVtYY"
      },
      "execution_count": null,
      "outputs": []
    },
    {
      "cell_type": "markdown",
      "source": [
        "### GloVe Feature Extraction"
      ],
      "metadata": {
        "id": "9zR5C1bKq3Sj"
      }
    },
    {
      "cell_type": "code",
      "source": [
        "# Load GloVe embeddings\n",
        "\n",
        "import os\n",
        "\n",
        "def load_glove_embeddings(glove_file_path):\n",
        "    embeddings_index = {}\n",
        "    with open(glove_file_path, 'r', encoding='utf-8') as f:\n",
        "        for line in f:\n",
        "            values = line.split()\n",
        "            word = values[0]\n",
        "            coefs = np.asarray(values[1:], dtype='float32')\n",
        "            embeddings_index[word] = coefs\n",
        "    return embeddings_index\n",
        "\n",
        "glove_file = 'glove.6B.100d.txt'\n",
        "embeddings_index = load_glove_embeddings(glove_file)"
      ],
      "metadata": {
        "id": "fGL4PFIEXylI"
      },
      "execution_count": null,
      "outputs": []
    },
    {
      "cell_type": "code",
      "source": [
        "#Create document vectors using GloVe embeddings:\n",
        "\n",
        "def document_vector_glove(doc, embeddings_index, dim=100):\n",
        "    word_vectors = [embeddings_index[word] for word in doc if word in embeddings_index]\n",
        "    if len(word_vectors) == 0:\n",
        "        return np.zeros(dim)\n",
        "    doc_vector = np.mean(word_vectors, axis=0)\n",
        "    return doc_vector\n",
        "\n",
        "\n",
        "# Create document vectors for training and testing data\n",
        "X_train_glove = np.array([document_vector_glove(doc, embeddings_index) for doc in X_train])\n",
        "X_test_glove = np.array([document_vector_glove(doc, embeddings_index) for doc in X_test])"
      ],
      "metadata": {
        "id": "932sr3NjeJwG"
      },
      "execution_count": null,
      "outputs": []
    },
    {
      "cell_type": "markdown",
      "source": [
        "### Training SVM Model"
      ],
      "metadata": {
        "id": "8bfFrISNgNKC"
      }
    },
    {
      "cell_type": "code",
      "source": [
        "# Train and evaluate SVM model using Word2Vec features:\n",
        "\n",
        "from sklearn.svm import SVC\n",
        "from sklearn.metrics import classification_report, accuracy_score\n",
        "\n",
        "# SVM with Word2Vec\n",
        "svm_w2v = SVC(kernel='linear')\n",
        "svm_w2v.fit(X_train_w2v, y_train)\n",
        "\n",
        "y_pred_w2v = svm_w2v.predict(X_test_w2v)\n",
        "print(\"Word2Vec SVM Accuracy:\", accuracy_score(y_test, y_pred_w2v))\n",
        "print(classification_report(y_test, y_pred_w2v))"
      ],
      "metadata": {
        "colab": {
          "base_uri": "https://localhost:8080/"
        },
        "id": "jFMdWqdTfV7l",
        "outputId": "9c6f44d7-44fe-4eb3-dca6-fe2c96ba6abe"
      },
      "execution_count": null,
      "outputs": [
        {
          "output_type": "stream",
          "name": "stdout",
          "text": [
            "Word2Vec SVM Accuracy: 0.5503937007874016\n",
            "              precision    recall  f1-score   support\n",
            "\n",
            "           0       0.59      0.50      0.54      1353\n",
            "           1       0.52      0.60      0.56      1187\n",
            "\n",
            "    accuracy                           0.55      2540\n",
            "   macro avg       0.55      0.55      0.55      2540\n",
            "weighted avg       0.56      0.55      0.55      2540\n",
            "\n"
          ]
        }
      ]
    },
    {
      "cell_type": "code",
      "source": [
        "# Train and evaluate SVM model using GloVe features:\n",
        "\n",
        "# SVM with GloVe\n",
        "svm_glove = SVC(kernel='linear')\n",
        "svm_glove.fit(X_train_glove, y_train)\n",
        "\n",
        "y_pred_glove = svm_glove.predict(X_test_glove)\n",
        "print(\"GloVe SVM Accuracy:\", accuracy_score(y_test, y_pred_glove))\n",
        "print(classification_report(y_test, y_pred_glove))"
      ],
      "metadata": {
        "colab": {
          "base_uri": "https://localhost:8080/"
        },
        "id": "jlbRuE_VgaZ0",
        "outputId": "79a2aeb5-b9ba-41ce-e9fb-7960c1ac5ebb"
      },
      "execution_count": null,
      "outputs": [
        {
          "output_type": "stream",
          "name": "stdout",
          "text": [
            "GloVe SVM Accuracy: 0.6216535433070867\n",
            "              precision    recall  f1-score   support\n",
            "\n",
            "           0       0.64      0.68      0.66      1353\n",
            "           1       0.60      0.56      0.58      1187\n",
            "\n",
            "    accuracy                           0.62      2540\n",
            "   macro avg       0.62      0.62      0.62      2540\n",
            "weighted avg       0.62      0.62      0.62      2540\n",
            "\n"
          ]
        }
      ]
    },
    {
      "cell_type": "markdown",
      "source": [
        "# Visualisations"
      ],
      "metadata": {
        "id": "gBgWDyE8i9PE"
      }
    },
    {
      "cell_type": "code",
      "source": [
        "import pandas as pd\n",
        "import numpy as np\n",
        "import matplotlib.pyplot as plt\n",
        "from sklearn.model_selection import train_test_split\n",
        "from sklearn.naive_bayes import MultinomialNB\n",
        "from sklearn.linear_model import LogisticRegression\n",
        "from sklearn.tree import DecisionTreeClassifier\n",
        "from sklearn.ensemble import RandomForestClassifier\n",
        "from sklearn.neighbors import KNeighborsClassifier\n",
        "from sklearn.svm import SVC\n",
        "from sklearn.metrics import accuracy_score\n",
        "import gensim\n",
        "from gensim.models import Word2Vec\n",
        "import requests\n",
        "import zipfile\n",
        "\n",
        "# Function to download GloVe embeddings\n",
        "def download_glove(url, save_path):\n",
        "    print(\"Downloading GloVe embeddings...\")\n",
        "    response = requests.get(url, stream=True)\n",
        "    with open(save_path, 'wb') as f:\n",
        "        for chunk in response.iter_content(chunk_size=128):\n",
        "            f.write(chunk)\n",
        "    print(\"Download complete.\")\n",
        "\n",
        "# Function to extract GloVe embeddings\n",
        "def extract_glove(zip_path, extract_to):\n",
        "    print(\"Extracting GloVe embeddings...\")\n",
        "    with zipfile.ZipFile(zip_path, 'r') as zip_ref:\n",
        "        zip_ref.extractall(extract_to)\n",
        "    print(\"Extraction complete.\")\n",
        "\n",
        "# Function to load GloVe embeddings\n",
        "def load_glove_embeddings(file_path):\n",
        "    embeddings_index = {}\n",
        "    with open(file_path, 'r', encoding='utf-8') as f:\n",
        "        for line in f:\n",
        "            values = line.split()\n",
        "            word = values[0]\n",
        "            coefs = np.asarray(values[1:], dtype='float32')\n",
        "            embeddings_index[word] = coefs\n",
        "    return embeddings_index\n",
        "\n",
        "# Function to create document vectors using GloVe\n",
        "def document_vector_glove(doc, embeddings_index, dim=100):\n",
        "    word_vectors = [embeddings_index[word] for word in doc if word in embeddings_index]\n",
        "    if len(word_vectors) == 0:\n",
        "        return np.zeros(dim)\n",
        "    doc_vector = np.mean(word_vectors, axis=0)\n",
        "    return doc_vector\n",
        "\n",
        "# Load the dataset\n",
        "preprocessed_data = pd.read_excel('preprocessed_data.xlsx')\n",
        "tweets = preprocessed_data['text']\n",
        "labels = preprocessed_data['gender']\n",
        "\n",
        "# Handle missing values\n",
        "preprocessed_data.dropna(subset=['text', 'gender'], inplace=True)\n",
        "tweets = preprocessed_data['text']\n",
        "labels = preprocessed_data['gender']\n",
        "\n",
        "# Split the dataset into training and test sets\n",
        "X_train, X_test, y_train, y_test = train_test_split(tweets, labels, test_size=0.2, random_state=42)\n",
        "\n",
        "# Tokenize the tweets\n",
        "X_train_tokenized = X_train.apply(lambda x: x.split())\n",
        "X_test_tokenized = X_test.apply(lambda x: x.split())\n",
        "\n",
        "# Train Word2Vec model\n",
        "word2vec_model = Word2Vec(sentences=X_train_tokenized, vector_size=100, window=5, min_count=1, workers=4)\n",
        "word2vec_model.build_vocab(X_train_tokenized, progress_per=1000)\n",
        "word2vec_model.train(X_train_tokenized, total_examples=word2vec_model.corpus_count, epochs=10)\n",
        "\n",
        "\n",
        "glove_file = 'glove.6B.100d.txt'\n",
        "\n",
        "# Load GloVe embeddings\n",
        "embeddings_index = load_glove_embeddings(glove_file)\n",
        "\n",
        "# Create document vectors using Word2Vec\n",
        "def document_vector_w2v(doc, model):\n",
        "    word_vectors = [model.wv[word] for word in doc if word in model.wv]\n",
        "    if len(word_vectors) == 0:\n",
        "        return np.zeros(model.vector_size)\n",
        "    return np.mean(word_vectors, axis=0)\n",
        "\n",
        "X_train_w2v = np.array([document_vector_w2v(doc, word2vec_model) for doc in X_train_tokenized])\n",
        "X_test_w2v = np.array([document_vector_w2v(doc, word2vec_model) for doc in X_test_tokenized])\n",
        "\n",
        "# Create document vectors using GloVe\n",
        "X_train_glove = np.array([document_vector_glove(doc, embeddings_index) for doc in X_train_tokenized])\n",
        "X_test_glove = np.array([document_vector_glove(doc, embeddings_index) for doc in X_test_tokenized])\n",
        "\n",
        "# Initialize classifiers\n",
        "classifiers = {\n",
        "    'Logistic Regression': LogisticRegression(max_iter=1000),\n",
        "    'Decision Tree': DecisionTreeClassifier(),\n",
        "    'Random Forest': RandomForestClassifier(),\n",
        "    'K-Nearest Neighbors': KNeighborsClassifier(),\n",
        "    'SVM': SVC(kernel='linear')\n",
        "}\n",
        "\n",
        "# Lists to store accuracy scores\n",
        "accuracy_scores_w2v = []\n",
        "accuracy_scores_glove = []\n",
        "\n",
        "# Train and evaluate each model using Word2Vec and GloVe features\n",
        "for clf_name, clf in classifiers.items():\n",
        "    # Using Word2Vec Features\n",
        "    if 'Logistic Regression' in clf_name:\n",
        "        clf_w2v = LogisticRegression(max_iter=1000)\n",
        "    else:\n",
        "        clf_w2v = clf\n",
        "\n",
        "    clf_w2v.fit(X_train_w2v, y_train)\n",
        "    y_pred_w2v = clf_w2v.predict(X_test_w2v)\n",
        "    accuracy_w2v = accuracy_score(y_test, y_pred_w2v)\n",
        "    accuracy_scores_w2v.append(accuracy_w2v)\n",
        "\n",
        "    # Using GloVe Features\n",
        "    if 'Logistic Regression' in clf_name:\n",
        "        clf_glove = LogisticRegression(max_iter=1000)\n",
        "    else:\n",
        "        clf_glove = clf\n",
        "\n",
        "    clf_glove.fit(X_train_glove, y_train)\n",
        "    y_pred_glove = clf_glove.predict(X_test_glove)\n",
        "    accuracy_glove = accuracy_score(y_test, y_pred_glove)\n",
        "    accuracy_scores_glove.append(accuracy_glove)\n",
        "\n",
        "# Plotting the graphs\n",
        "fig, (ax1, ax2) = plt.subplots(1, 2, figsize=(14, 6))\n",
        "\n",
        "# Word2Vec Accuracy Plot\n",
        "ax1.barh(list(classifiers.keys()), accuracy_scores_w2v, color='skyblue')\n",
        "ax1.set_xlim(0.5, 1.0)  # Adjust the x-axis limits if necessary\n",
        "ax1.set_xlabel('Accuracy')\n",
        "ax1.set_title('Accuracy of Models using Word2Vec')\n",
        "for i, v in enumerate(accuracy_scores_w2v):\n",
        "    ax1.text(v + 0.01, i, f'{v*100:.1f}%', va='center')\n",
        "\n",
        "# GloVe Accuracy Plot\n",
        "ax2.barh(list(classifiers.keys()), accuracy_scores_glove, color='lightgreen')\n",
        "ax2.set_xlim(0.5, 1.0)  # Adjust the x-axis limits if necessary\n",
        "ax2.set_xlabel('Accuracy')\n",
        "ax2.set_title('Accuracy of Models using GloVe')\n",
        "for i, v in enumerate(accuracy_scores_glove):\n",
        "    ax2.text(v + 0.01, i, f'{v*100:.1f}%', va='center')\n",
        "\n",
        "plt.tight_layout()\n",
        "plt.show()\n"
      ],
      "metadata": {
        "colab": {
          "base_uri": "https://localhost:8080/",
          "height": 451
        },
        "id": "hBrwvmtZi8al",
        "outputId": "29b61c2f-f2db-4d3b-b202-a2ab6b8dc15a"
      },
      "execution_count": null,
      "outputs": [
        {
          "output_type": "stream",
          "name": "stderr",
          "text": [
            "WARNING:gensim.models.keyedvectors:sorting after vectors have been allocated is expensive & error-prone\n",
            "WARNING:gensim.models.word2vec:Effective 'alpha' higher than previous training cycles\n"
          ]
        },
        {
          "output_type": "display_data",
          "data": {
            "text/plain": [
              "<Figure size 1400x600 with 2 Axes>"
            ],
            "image/png": "[encoded data removed]"
          },
          "metadata": {}
        }
      ]
    }
  ]
}